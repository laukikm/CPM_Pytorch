{
  "nbformat": 4,
  "nbformat_minor": 0,
  "metadata": {
    "kernelspec": {
      "display_name": "Python 3",
      "language": "python",
      "name": "python3"
    },
    "language_info": {
      "codemirror_mode": {
        "name": "ipython",
        "version": 3
      },
      "file_extension": ".py",
      "mimetype": "text/x-python",
      "name": "python",
      "nbconvert_exporter": "python",
      "pygments_lexer": "ipython3",
      "version": "3.7.3"
    },
    "colab": {
      "name": "notebook.ipynb",
      "provenance": []
    },
    "accelerator": "GPU"
  },
  "cells": [
    {
      "cell_type": "code",
      "metadata": {
        "id": "u5m8t0lIg-KO",
        "outputId": "cc4c71ee-6b79-474d-b60f-35a0ed375202",
        "colab": {
          "base_uri": "https://localhost:8080/"
        }
      },
      "source": [
        "from google.colab import drive\n",
        "drive.mount('/content/drive')"
      ],
      "execution_count": 1,
      "outputs": [
        {
          "output_type": "stream",
          "text": [
            "Mounted at /content/drive\n"
          ],
          "name": "stdout"
        }
      ]
    },
    {
      "cell_type": "code",
      "metadata": {
        "id": "01LOjGdsunCv",
        "outputId": "f4678b35-845d-43cc-959c-8e5fdf14be3b",
        "colab": {
          "base_uri": "https://localhost:8080/"
        }
      },
      "source": [
        "cd /content/drive/My\\ Drive/CPM_Pytorch"
      ],
      "execution_count": 1,
      "outputs": [
        {
          "output_type": "stream",
          "text": [
            "/content/drive/My Drive/CPM_Pytorch\n"
          ],
          "name": "stdout"
        }
      ]
    },
    {
      "cell_type": "code",
      "metadata": {
        "id": "dNCi-PjNg-KS"
      },
      "source": [
        "import matplotlib\n",
        "matplotlib.use('TKAgg')\n",
        "\n",
        "from data_loader.dataLoader import CarDataset as Mydata\n",
        "from model.cpm import CPM\n",
        "from src.util import heatmap_image,save_images,PCK\n",
        "\n",
        "import os\n",
        "import glob\n",
        "\n",
        "import torch\n",
        "import torch.optim as optim\n",
        "import torch.nn as nn\n",
        "import configparser\n",
        "import pandas as pd\n",
        "import numpy as np\n",
        "\n",
        "import cv2\n",
        "\n",
        "from torch.autograd import Variable\n",
        "from torch.utils.data import DataLoader\n",
        "\n",
        "from torchvision import transforms\n",
        "from PIL import Image, ImageDraw\n",
        "from src.compute_origin import HumanSortKey,GetIntrinsicMatrix,DrawOrigin"
      ],
      "execution_count": 3,
      "outputs": []
    },
    {
      "cell_type": "code",
      "metadata": {
        "id": "V-2JEKS5jfAf",
        "outputId": "0d3ab6f6-ee17-466f-f24c-cf247258d979",
        "colab": {
          "base_uri": "https://localhost:8080/"
        }
      },
      "source": [
        "#Hyperparams\n",
        "config = configparser.ConfigParser()\n",
        "config.read('conf_online.text')\n",
        "\n",
        "train_data_dir = config.get('data', 'train_data_dir')\n",
        "\n",
        "annotation_save_dir=config.get('data', 'annotation_save_dir')\n",
        "keypoints_dir=config.get('data','keypoints_file_dir')\n",
        "\n",
        "save_dir = config.get('data', 'save_dir')\n",
        "\n",
        "learning_rate = config.getfloat('training', 'learning_rate')\n",
        "batch_size = config.getint('training', 'batch_size')\n",
        "epochs = config.getint('training', 'epochs')\n",
        "begin_epoch = config.getint('training', 'begin_epoch')\n",
        "n_keypoints=config.getint('training', 'n_keypoints')  \n",
        "model_save_dir=config.get('data', 'model_save_dir')+\"_\"+str(n_keypoints)+\"/\"\n",
        "print(begin_epoch)\n",
        "print(model_save_dir)\n"
      ],
      "execution_count": 4,
      "outputs": [
        {
          "output_type": "stream",
          "text": [
            "0\n",
            "models_8/\n"
          ],
          "name": "stdout"
        }
      ]
    },
    {
      "cell_type": "code",
      "metadata": {
        "id": "xx6XxRP-nL4Y"
      },
      "source": [
        "cuda = torch.cuda.is_available()\n",
        " \n",
        "\n",
        "if not os.path.exists(save_dir):\n",
        "    os.mkdir(save_dir)"
      ],
      "execution_count": 5,
      "outputs": []
    },
    {
      "cell_type": "code",
      "metadata": {
        "id": "REXWM9sZsjyQ",
        "outputId": "daf7a1b4-f8e6-42e5-d1e7-a16f81f33684",
        "colab": {
          "base_uri": "https://localhost:8080/"
        }
      },
      "source": [
        "# *********************** Build dataset ***********************\n",
        "train_data = Mydata(data_dir=train_data_dir,n_keypoints=n_keypoints)\n",
        "\n",
        "\n",
        "print ('Train dataset total number of images sequence is ----' + str(len(train_data)))\n",
        "\n",
        "# Data Loader\n",
        "train_dataset = DataLoader(train_data, batch_size=batch_size, shuffle=True)"
      ],
      "execution_count": 6,
      "outputs": [
        {
          "output_type": "stream",
          "text": [
            "Train dataset total number of images sequence is ----528\n"
          ],
          "name": "stdout"
        }
      ]
    },
    {
      "cell_type": "code",
      "metadata": {
        "id": "s_w2352-l6tA",
        "outputId": "db6d9e2e-6405-49a2-dbfe-4b7f4c25cf36",
        "colab": {
          "base_uri": "https://localhost:8080/"
        }
      },
      "source": [
        "train_data.images_dir.sort(key=HumanSortKey)\n",
        "train_data.label_dir.sort(key=HumanSortKey)\n",
        "train_data.label_dir[0:10]\n"
      ],
      "execution_count": 7,
      "outputs": [
        {
          "output_type": "execute_result",
          "data": {
            "text/plain": [
              "['/content/drive//My Drive/Final Data/mustang/Labels/labels1.txt',\n",
              " '/content/drive//My Drive/Final Data/mustang/Labels/labels2.txt',\n",
              " '/content/drive//My Drive/Final Data/mustang/Labels/labels3.txt',\n",
              " '/content/drive//My Drive/Final Data/mustang/Labels/labels4.txt',\n",
              " '/content/drive//My Drive/Final Data/mustang/Labels/labels5.txt',\n",
              " '/content/drive//My Drive/Final Data/mustang/Labels/labels6.txt',\n",
              " '/content/drive//My Drive/Final Data/mustang/Labels/labels7.txt',\n",
              " '/content/drive//My Drive/Final Data/mustang/Labels/labels8.txt',\n",
              " '/content/drive//My Drive/Final Data/mustang/Labels/labels9.txt',\n",
              " '/content/drive//My Drive/Final Data/mustang/Labels/labels10.txt']"
            ]
          },
          "metadata": {
            "tags": []
          },
          "execution_count": 7
        }
      ]
    },
    {
      "cell_type": "code",
      "metadata": {
        "id": "XF4BqAR9slCt",
        "outputId": "d8a1d79a-bc56-4541-8071-67afdcb3fc62",
        "colab": {
          "base_uri": "https://localhost:8080/"
        }
      },
      "source": [
        "net = CPM(out_c=n_keypoints)\n",
        "\n",
        "device_ids = [0]  \n",
        "if cuda:\n",
        "    net = net.cuda(device_ids[0])\n",
        "    net = nn.DataParallel(net, device_ids=device_ids)\n",
        "print(model_save_dir)\n",
        "if begin_epoch > 0:\n",
        "    save_path =model_save_dir+'model_epoch' + str(begin_epoch) + '.pth'\n",
        "    state_dict = torch.load(save_path)\n",
        "    net.load_state_dict(state_dict)"
      ],
      "execution_count": 8,
      "outputs": [
        {
          "output_type": "stream",
          "text": [
            "models_8/\n"
          ],
          "name": "stdout"
        }
      ]
    },
    {
      "cell_type": "code",
      "metadata": {
        "id": "2h8Bs0aIss_2"
      },
      "source": [
        "def train():\n",
        "    # *********************** initialize optimizer ***********************\n",
        "    optimizer = optim.Adam(params=net.parameters(), lr=learning_rate, betas=(0.5, 0.999))\n",
        "    criterion = nn.MSELoss(size_average=True)                       # loss function MSE average\n",
        "\n",
        "    net.train()\n",
        "    for epoch in range(begin_epoch, epochs + 1):\n",
        "        print ('epoch....................' + str(epoch))\n",
        "        \n",
        "        for step, (image, label_map, center_map, imgs) in enumerate(train_dataset):\n",
        "            \n",
        "            image = Variable(image.cuda() if cuda else image)                   # 4D Tensor\n",
        "            # Batch_size  *  3  *  width(368)  *  height(368)\n",
        "\n",
        "            # 4D Tensor to 5D Tensor\n",
        "            label_map = torch.stack([label_map]*6, dim=1)\n",
        "            # Batch_size  *  21 *   45  *  45\n",
        "            # Batch_size  *   6 *   21  *  45  *  45\n",
        "            label_map = Variable(label_map.cuda() if cuda else label_map)\n",
        "\n",
        "            center_map = Variable(center_map.cuda() if cuda else center_map)    # 4D Tensor\n",
        "            # Batch_size  *  width(368) * height(368)\n",
        "\n",
        "            optimizer.zero_grad()\n",
        "            pred_6 = net(image, center_map)  # 5D tensor:  batch size * stages * 21 * 45 * 45 #This is huge\n",
        "\n",
        "            # ******************** calculate loss of each joints ********************\n",
        "            loss = criterion(pred_6, label_map)\n",
        "\n",
        "            # backward\n",
        "            loss.backward()\n",
        "            loss=loss.detach()\n",
        "            #import ipdb\n",
        "            #ipdb.set_trace()\n",
        "            \n",
        "            optimizer.step() #Not using SGD\n",
        "            #gc.collect()\n",
        "\n",
        "            if step % 10 == 0:\n",
        "                print ('--step .....' + str(step))\n",
        "                print ('--loss ',loss.item()*10000)\n",
        "                gb_factor=10**9\n",
        "                print('--gpu memory=',torch.cuda.memory_allocated()/gb_factor)\n",
        "\n",
        "            #if step % 40 == 0:\n",
        "              #torch.save(net.state_dict(), os.path.join(save_dir, 'model_epoch{:d}.pth'.format(epoch)))\n",
        "            #    save_images(label_map[:, 5, :, :, :], pred_6[:, 5, :, :, :], step, epoch, imgs)\n",
        "\n",
        "        if epoch % 10 == 0 and epoch>0:\n",
        "            torch.save(net.state_dict(), os.path.join(model_save_dir, 'model_epoch{:d}.pth'.format(epoch)))\n",
        "        \n",
        "            #Delete tensors from memory\n",
        "            #del image,label_map,center_map,pred_6\n",
        "\n",
        "    print ('train done!')"
      ],
      "execution_count": 13,
      "outputs": []
    },
    {
      "cell_type": "code",
      "metadata": {
        "id": "bC9yZJGAuRak",
        "outputId": "e00553b0-1ad4-475a-ca52-2043f887481a",
        "colab": {
          "base_uri": "https://localhost:8080/",
          "height": 1000
        }
      },
      "source": [
        "train()"
      ],
      "execution_count": 12,
      "outputs": [
        {
          "output_type": "stream",
          "text": [
            "/usr/local/lib/python3.6/dist-packages/torch/nn/_reduction.py:44: UserWarning: size_average and reduce args will be deprecated, please use reduction='mean' instead.\n",
            "  warnings.warn(warning.format(ret))\n"
          ],
          "name": "stderr"
        },
        {
          "output_type": "stream",
          "text": [
            "epoch....................0\n",
            "--step .....0\n",
            "--loss  13.667132006958127\n",
            "--gpu memory= 0.83468544\n",
            "--step .....10\n",
            "--loss  13.337547425180674\n",
            "--gpu memory= 0.83468544\n",
            "--step .....20\n",
            "--loss  13.16464738920331\n",
            "--gpu memory= 0.83468544\n",
            "--step .....30\n",
            "--loss  13.088046107441187\n",
            "--gpu memory= 0.83468544\n",
            "epoch....................1\n",
            "--step .....0\n",
            "--loss  13.31631327047944\n",
            "--gpu memory= 0.83468544\n",
            "--step .....10\n",
            "--loss  13.55365733616054\n",
            "--gpu memory= 0.83468544\n",
            "--step .....20\n",
            "--loss  13.537590857595205\n",
            "--gpu memory= 0.83468544\n",
            "--step .....30\n",
            "--loss  13.012303970754147\n",
            "--gpu memory= 0.83468544\n",
            "epoch....................2\n",
            "--step .....0\n",
            "--loss  13.066623359918594\n",
            "--gpu memory= 0.83468544\n",
            "--step .....10\n",
            "--loss  13.266126625239849\n",
            "--gpu memory= 0.83468544\n",
            "--step .....20\n",
            "--loss  12.975294375792146\n",
            "--gpu memory= 0.83468544\n",
            "--step .....30\n",
            "--loss  12.744851410388947\n",
            "--gpu memory= 0.83468544\n",
            "epoch....................3\n",
            "--step .....0\n",
            "--loss  12.57683034054935\n",
            "--gpu memory= 0.83468544\n",
            "--step .....10\n",
            "--loss  12.450487120077014\n",
            "--gpu memory= 0.83468544\n",
            "--step .....20\n",
            "--loss  12.78874697163701\n",
            "--gpu memory= 0.83468544\n",
            "--step .....30\n",
            "--loss  13.20625888183713\n",
            "--gpu memory= 0.83468544\n",
            "epoch....................4\n",
            "--step .....0\n",
            "--loss  12.279736110940576\n",
            "--gpu memory= 0.83468544\n",
            "--step .....10\n",
            "--loss  12.759494129568338\n",
            "--gpu memory= 0.83468544\n",
            "--step .....20\n",
            "--loss  12.407660251483321\n",
            "--gpu memory= 0.83468544\n",
            "--step .....30\n",
            "--loss  12.244569370523095\n",
            "--gpu memory= 0.83468544\n",
            "epoch....................5\n",
            "--step .....0\n",
            "--loss  12.116746511310339\n",
            "--gpu memory= 0.83468544\n",
            "--step .....10\n",
            "--loss  12.469617649912834\n",
            "--gpu memory= 0.83468544\n",
            "--step .....20\n",
            "--loss  12.166857486590743\n",
            "--gpu memory= 0.83468544\n",
            "--step .....30\n",
            "--loss  11.765804374590516\n",
            "--gpu memory= 0.83468544\n",
            "epoch....................6\n",
            "--step .....0\n",
            "--loss  11.449272278696299\n",
            "--gpu memory= 0.83468544\n",
            "--step .....10\n",
            "--loss  11.929196771234274\n",
            "--gpu memory= 0.83468544\n",
            "--step .....20\n",
            "--loss  11.733982246369123\n",
            "--gpu memory= 0.83468544\n",
            "--step .....30\n",
            "--loss  11.239848099648952\n",
            "--gpu memory= 0.83468544\n",
            "epoch....................7\n",
            "--step .....0\n",
            "--loss  11.001225793734193\n",
            "--gpu memory= 0.83468544\n",
            "--step .....10\n",
            "--loss  11.255834251642227\n",
            "--gpu memory= 0.83468544\n",
            "--step .....20\n",
            "--loss  10.443322826176882\n",
            "--gpu memory= 0.83468544\n",
            "--step .....30\n",
            "--loss  11.041323887184262\n",
            "--gpu memory= 0.83468544\n",
            "epoch....................8\n",
            "--step .....0\n",
            "--loss  10.69441088475287\n",
            "--gpu memory= 0.83468544\n"
          ],
          "name": "stdout"
        },
        {
          "output_type": "error",
          "ename": "KeyboardInterrupt",
          "evalue": "ignored",
          "traceback": [
            "\u001b[0;31m---------------------------------------------------------------------------\u001b[0m",
            "\u001b[0;31mKeyboardInterrupt\u001b[0m                         Traceback (most recent call last)",
            "\u001b[0;32m<ipython-input-12-2da0ffaf5447>\u001b[0m in \u001b[0;36m<module>\u001b[0;34m()\u001b[0m\n\u001b[0;32m----> 1\u001b[0;31m \u001b[0mtrain\u001b[0m\u001b[0;34m(\u001b[0m\u001b[0;34m)\u001b[0m\u001b[0;34m\u001b[0m\u001b[0;34m\u001b[0m\u001b[0m\n\u001b[0m",
            "\u001b[0;32m<ipython-input-11-ee0087810124>\u001b[0m in \u001b[0;36mtrain\u001b[0;34m()\u001b[0m\n\u001b[1;32m      8\u001b[0m         \u001b[0mprint\u001b[0m \u001b[0;34m(\u001b[0m\u001b[0;34m'epoch....................'\u001b[0m \u001b[0;34m+\u001b[0m \u001b[0mstr\u001b[0m\u001b[0;34m(\u001b[0m\u001b[0mepoch\u001b[0m\u001b[0;34m)\u001b[0m\u001b[0;34m)\u001b[0m\u001b[0;34m\u001b[0m\u001b[0;34m\u001b[0m\u001b[0m\n\u001b[1;32m      9\u001b[0m \u001b[0;34m\u001b[0m\u001b[0m\n\u001b[0;32m---> 10\u001b[0;31m         \u001b[0;32mfor\u001b[0m \u001b[0mstep\u001b[0m\u001b[0;34m,\u001b[0m \u001b[0;34m(\u001b[0m\u001b[0mimage\u001b[0m\u001b[0;34m,\u001b[0m \u001b[0mlabel_map\u001b[0m\u001b[0;34m,\u001b[0m \u001b[0mcenter_map\u001b[0m\u001b[0;34m,\u001b[0m \u001b[0mimgs\u001b[0m\u001b[0;34m)\u001b[0m \u001b[0;32min\u001b[0m \u001b[0menumerate\u001b[0m\u001b[0;34m(\u001b[0m\u001b[0mtrain_dataset\u001b[0m\u001b[0;34m)\u001b[0m\u001b[0;34m:\u001b[0m\u001b[0;34m\u001b[0m\u001b[0;34m\u001b[0m\u001b[0m\n\u001b[0m\u001b[1;32m     11\u001b[0m \u001b[0;34m\u001b[0m\u001b[0m\n\u001b[1;32m     12\u001b[0m             \u001b[0mimage\u001b[0m \u001b[0;34m=\u001b[0m \u001b[0mVariable\u001b[0m\u001b[0;34m(\u001b[0m\u001b[0mimage\u001b[0m\u001b[0;34m.\u001b[0m\u001b[0mcuda\u001b[0m\u001b[0;34m(\u001b[0m\u001b[0;34m)\u001b[0m \u001b[0;32mif\u001b[0m \u001b[0mcuda\u001b[0m \u001b[0;32melse\u001b[0m \u001b[0mimage\u001b[0m\u001b[0;34m)\u001b[0m                   \u001b[0;31m# 4D Tensor\u001b[0m\u001b[0;34m\u001b[0m\u001b[0;34m\u001b[0m\u001b[0m\n",
            "\u001b[0;32m/usr/local/lib/python3.6/dist-packages/torch/utils/data/dataloader.py\u001b[0m in \u001b[0;36m__next__\u001b[0;34m(self)\u001b[0m\n\u001b[1;32m    433\u001b[0m         \u001b[0;32mif\u001b[0m \u001b[0mself\u001b[0m\u001b[0;34m.\u001b[0m\u001b[0m_sampler_iter\u001b[0m \u001b[0;32mis\u001b[0m \u001b[0;32mNone\u001b[0m\u001b[0;34m:\u001b[0m\u001b[0;34m\u001b[0m\u001b[0;34m\u001b[0m\u001b[0m\n\u001b[1;32m    434\u001b[0m             \u001b[0mself\u001b[0m\u001b[0;34m.\u001b[0m\u001b[0m_reset\u001b[0m\u001b[0;34m(\u001b[0m\u001b[0;34m)\u001b[0m\u001b[0;34m\u001b[0m\u001b[0;34m\u001b[0m\u001b[0m\n\u001b[0;32m--> 435\u001b[0;31m         \u001b[0mdata\u001b[0m \u001b[0;34m=\u001b[0m \u001b[0mself\u001b[0m\u001b[0;34m.\u001b[0m\u001b[0m_next_data\u001b[0m\u001b[0;34m(\u001b[0m\u001b[0;34m)\u001b[0m\u001b[0;34m\u001b[0m\u001b[0;34m\u001b[0m\u001b[0m\n\u001b[0m\u001b[1;32m    436\u001b[0m         \u001b[0mself\u001b[0m\u001b[0;34m.\u001b[0m\u001b[0m_num_yielded\u001b[0m \u001b[0;34m+=\u001b[0m \u001b[0;36m1\u001b[0m\u001b[0;34m\u001b[0m\u001b[0;34m\u001b[0m\u001b[0m\n\u001b[1;32m    437\u001b[0m         \u001b[0;32mif\u001b[0m \u001b[0mself\u001b[0m\u001b[0;34m.\u001b[0m\u001b[0m_dataset_kind\u001b[0m \u001b[0;34m==\u001b[0m \u001b[0m_DatasetKind\u001b[0m\u001b[0;34m.\u001b[0m\u001b[0mIterable\u001b[0m \u001b[0;32mand\u001b[0m\u001b[0;31m \u001b[0m\u001b[0;31m\\\u001b[0m\u001b[0;34m\u001b[0m\u001b[0;34m\u001b[0m\u001b[0m\n",
            "\u001b[0;32m/usr/local/lib/python3.6/dist-packages/torch/utils/data/dataloader.py\u001b[0m in \u001b[0;36m_next_data\u001b[0;34m(self)\u001b[0m\n\u001b[1;32m    473\u001b[0m     \u001b[0;32mdef\u001b[0m \u001b[0m_next_data\u001b[0m\u001b[0;34m(\u001b[0m\u001b[0mself\u001b[0m\u001b[0;34m)\u001b[0m\u001b[0;34m:\u001b[0m\u001b[0;34m\u001b[0m\u001b[0;34m\u001b[0m\u001b[0m\n\u001b[1;32m    474\u001b[0m         \u001b[0mindex\u001b[0m \u001b[0;34m=\u001b[0m \u001b[0mself\u001b[0m\u001b[0;34m.\u001b[0m\u001b[0m_next_index\u001b[0m\u001b[0;34m(\u001b[0m\u001b[0;34m)\u001b[0m  \u001b[0;31m# may raise StopIteration\u001b[0m\u001b[0;34m\u001b[0m\u001b[0;34m\u001b[0m\u001b[0m\n\u001b[0;32m--> 475\u001b[0;31m         \u001b[0mdata\u001b[0m \u001b[0;34m=\u001b[0m \u001b[0mself\u001b[0m\u001b[0;34m.\u001b[0m\u001b[0m_dataset_fetcher\u001b[0m\u001b[0;34m.\u001b[0m\u001b[0mfetch\u001b[0m\u001b[0;34m(\u001b[0m\u001b[0mindex\u001b[0m\u001b[0;34m)\u001b[0m  \u001b[0;31m# may raise StopIteration\u001b[0m\u001b[0;34m\u001b[0m\u001b[0;34m\u001b[0m\u001b[0m\n\u001b[0m\u001b[1;32m    476\u001b[0m         \u001b[0;32mif\u001b[0m \u001b[0mself\u001b[0m\u001b[0;34m.\u001b[0m\u001b[0m_pin_memory\u001b[0m\u001b[0;34m:\u001b[0m\u001b[0;34m\u001b[0m\u001b[0;34m\u001b[0m\u001b[0m\n\u001b[1;32m    477\u001b[0m             \u001b[0mdata\u001b[0m \u001b[0;34m=\u001b[0m \u001b[0m_utils\u001b[0m\u001b[0;34m.\u001b[0m\u001b[0mpin_memory\u001b[0m\u001b[0;34m.\u001b[0m\u001b[0mpin_memory\u001b[0m\u001b[0;34m(\u001b[0m\u001b[0mdata\u001b[0m\u001b[0;34m)\u001b[0m\u001b[0;34m\u001b[0m\u001b[0;34m\u001b[0m\u001b[0m\n",
            "\u001b[0;32m/usr/local/lib/python3.6/dist-packages/torch/utils/data/_utils/fetch.py\u001b[0m in \u001b[0;36mfetch\u001b[0;34m(self, possibly_batched_index)\u001b[0m\n\u001b[1;32m     42\u001b[0m     \u001b[0;32mdef\u001b[0m \u001b[0mfetch\u001b[0m\u001b[0;34m(\u001b[0m\u001b[0mself\u001b[0m\u001b[0;34m,\u001b[0m \u001b[0mpossibly_batched_index\u001b[0m\u001b[0;34m)\u001b[0m\u001b[0;34m:\u001b[0m\u001b[0;34m\u001b[0m\u001b[0;34m\u001b[0m\u001b[0m\n\u001b[1;32m     43\u001b[0m         \u001b[0;32mif\u001b[0m \u001b[0mself\u001b[0m\u001b[0;34m.\u001b[0m\u001b[0mauto_collation\u001b[0m\u001b[0;34m:\u001b[0m\u001b[0;34m\u001b[0m\u001b[0;34m\u001b[0m\u001b[0m\n\u001b[0;32m---> 44\u001b[0;31m             \u001b[0mdata\u001b[0m \u001b[0;34m=\u001b[0m \u001b[0;34m[\u001b[0m\u001b[0mself\u001b[0m\u001b[0;34m.\u001b[0m\u001b[0mdataset\u001b[0m\u001b[0;34m[\u001b[0m\u001b[0midx\u001b[0m\u001b[0;34m]\u001b[0m \u001b[0;32mfor\u001b[0m \u001b[0midx\u001b[0m \u001b[0;32min\u001b[0m \u001b[0mpossibly_batched_index\u001b[0m\u001b[0;34m]\u001b[0m\u001b[0;34m\u001b[0m\u001b[0;34m\u001b[0m\u001b[0m\n\u001b[0m\u001b[1;32m     45\u001b[0m         \u001b[0;32melse\u001b[0m\u001b[0;34m:\u001b[0m\u001b[0;34m\u001b[0m\u001b[0;34m\u001b[0m\u001b[0m\n\u001b[1;32m     46\u001b[0m             \u001b[0mdata\u001b[0m \u001b[0;34m=\u001b[0m \u001b[0mself\u001b[0m\u001b[0;34m.\u001b[0m\u001b[0mdataset\u001b[0m\u001b[0;34m[\u001b[0m\u001b[0mpossibly_batched_index\u001b[0m\u001b[0;34m]\u001b[0m\u001b[0;34m\u001b[0m\u001b[0;34m\u001b[0m\u001b[0m\n",
            "\u001b[0;32m/usr/local/lib/python3.6/dist-packages/torch/utils/data/_utils/fetch.py\u001b[0m in \u001b[0;36m<listcomp>\u001b[0;34m(.0)\u001b[0m\n\u001b[1;32m     42\u001b[0m     \u001b[0;32mdef\u001b[0m \u001b[0mfetch\u001b[0m\u001b[0;34m(\u001b[0m\u001b[0mself\u001b[0m\u001b[0;34m,\u001b[0m \u001b[0mpossibly_batched_index\u001b[0m\u001b[0;34m)\u001b[0m\u001b[0;34m:\u001b[0m\u001b[0;34m\u001b[0m\u001b[0;34m\u001b[0m\u001b[0m\n\u001b[1;32m     43\u001b[0m         \u001b[0;32mif\u001b[0m \u001b[0mself\u001b[0m\u001b[0;34m.\u001b[0m\u001b[0mauto_collation\u001b[0m\u001b[0;34m:\u001b[0m\u001b[0;34m\u001b[0m\u001b[0;34m\u001b[0m\u001b[0m\n\u001b[0;32m---> 44\u001b[0;31m             \u001b[0mdata\u001b[0m \u001b[0;34m=\u001b[0m \u001b[0;34m[\u001b[0m\u001b[0mself\u001b[0m\u001b[0;34m.\u001b[0m\u001b[0mdataset\u001b[0m\u001b[0;34m[\u001b[0m\u001b[0midx\u001b[0m\u001b[0;34m]\u001b[0m \u001b[0;32mfor\u001b[0m \u001b[0midx\u001b[0m \u001b[0;32min\u001b[0m \u001b[0mpossibly_batched_index\u001b[0m\u001b[0;34m]\u001b[0m\u001b[0;34m\u001b[0m\u001b[0;34m\u001b[0m\u001b[0m\n\u001b[0m\u001b[1;32m     45\u001b[0m         \u001b[0;32melse\u001b[0m\u001b[0;34m:\u001b[0m\u001b[0;34m\u001b[0m\u001b[0;34m\u001b[0m\u001b[0m\n\u001b[1;32m     46\u001b[0m             \u001b[0mdata\u001b[0m \u001b[0;34m=\u001b[0m \u001b[0mself\u001b[0m\u001b[0;34m.\u001b[0m\u001b[0mdataset\u001b[0m\u001b[0;34m[\u001b[0m\u001b[0mpossibly_batched_index\u001b[0m\u001b[0;34m]\u001b[0m\u001b[0;34m\u001b[0m\u001b[0;34m\u001b[0m\u001b[0m\n",
            "\u001b[0;32m/content/drive/My Drive/CPM_Pytorch/data_loader/dataLoader.py\u001b[0m in \u001b[0;36m__getitem__\u001b[0;34m(self, idx)\u001b[0m\n\u001b[1;32m     94\u001b[0m \u001b[0;34m\u001b[0m\u001b[0m\n\u001b[1;32m     95\u001b[0m         \u001b[0mfile\u001b[0m\u001b[0;34m=\u001b[0m\u001b[0mself\u001b[0m\u001b[0;34m.\u001b[0m\u001b[0mlabel_dir\u001b[0m\u001b[0;34m[\u001b[0m\u001b[0midx\u001b[0m\u001b[0;34m]\u001b[0m\u001b[0;34m\u001b[0m\u001b[0;34m\u001b[0m\u001b[0m\n\u001b[0;32m---> 96\u001b[0;31m         \u001b[0mlabels\u001b[0m \u001b[0;34m=\u001b[0m \u001b[0mpd\u001b[0m\u001b[0;34m.\u001b[0m\u001b[0mread_csv\u001b[0m\u001b[0;34m(\u001b[0m\u001b[0mfile\u001b[0m\u001b[0;34m,\u001b[0m\u001b[0mdelimiter\u001b[0m\u001b[0;34m=\u001b[0m\u001b[0;34m\" \"\u001b[0m\u001b[0;34m)\u001b[0m\u001b[0;34m\u001b[0m\u001b[0;34m\u001b[0m\u001b[0m\n\u001b[0m\u001b[1;32m     97\u001b[0m \u001b[0;34m\u001b[0m\u001b[0m\n\u001b[1;32m     98\u001b[0m         \u001b[0;31m# get image\u001b[0m\u001b[0;34m\u001b[0m\u001b[0;34m\u001b[0m\u001b[0;34m\u001b[0m\u001b[0m\n",
            "\u001b[0;32m/usr/local/lib/python3.6/dist-packages/pandas/io/parsers.py\u001b[0m in \u001b[0;36mread_csv\u001b[0;34m(filepath_or_buffer, sep, delimiter, header, names, index_col, usecols, squeeze, prefix, mangle_dupe_cols, dtype, engine, converters, true_values, false_values, skipinitialspace, skiprows, skipfooter, nrows, na_values, keep_default_na, na_filter, verbose, skip_blank_lines, parse_dates, infer_datetime_format, keep_date_col, date_parser, dayfirst, cache_dates, iterator, chunksize, compression, thousands, decimal, lineterminator, quotechar, quoting, doublequote, escapechar, comment, encoding, dialect, error_bad_lines, warn_bad_lines, delim_whitespace, low_memory, memory_map, float_precision)\u001b[0m\n\u001b[1;32m    686\u001b[0m     )\n\u001b[1;32m    687\u001b[0m \u001b[0;34m\u001b[0m\u001b[0m\n\u001b[0;32m--> 688\u001b[0;31m     \u001b[0;32mreturn\u001b[0m \u001b[0m_read\u001b[0m\u001b[0;34m(\u001b[0m\u001b[0mfilepath_or_buffer\u001b[0m\u001b[0;34m,\u001b[0m \u001b[0mkwds\u001b[0m\u001b[0;34m)\u001b[0m\u001b[0;34m\u001b[0m\u001b[0;34m\u001b[0m\u001b[0m\n\u001b[0m\u001b[1;32m    689\u001b[0m \u001b[0;34m\u001b[0m\u001b[0m\n\u001b[1;32m    690\u001b[0m \u001b[0;34m\u001b[0m\u001b[0m\n",
            "\u001b[0;32m/usr/local/lib/python3.6/dist-packages/pandas/io/parsers.py\u001b[0m in \u001b[0;36m_read\u001b[0;34m(filepath_or_buffer, kwds)\u001b[0m\n\u001b[1;32m    460\u001b[0m         \u001b[0mdata\u001b[0m \u001b[0;34m=\u001b[0m \u001b[0mparser\u001b[0m\u001b[0;34m.\u001b[0m\u001b[0mread\u001b[0m\u001b[0;34m(\u001b[0m\u001b[0mnrows\u001b[0m\u001b[0;34m)\u001b[0m\u001b[0;34m\u001b[0m\u001b[0;34m\u001b[0m\u001b[0m\n\u001b[1;32m    461\u001b[0m     \u001b[0;32mfinally\u001b[0m\u001b[0;34m:\u001b[0m\u001b[0;34m\u001b[0m\u001b[0;34m\u001b[0m\u001b[0m\n\u001b[0;32m--> 462\u001b[0;31m         \u001b[0mparser\u001b[0m\u001b[0;34m.\u001b[0m\u001b[0mclose\u001b[0m\u001b[0;34m(\u001b[0m\u001b[0;34m)\u001b[0m\u001b[0;34m\u001b[0m\u001b[0;34m\u001b[0m\u001b[0m\n\u001b[0m\u001b[1;32m    463\u001b[0m \u001b[0;34m\u001b[0m\u001b[0m\n\u001b[1;32m    464\u001b[0m     \u001b[0;32mif\u001b[0m \u001b[0mshould_close\u001b[0m\u001b[0;34m:\u001b[0m\u001b[0;34m\u001b[0m\u001b[0;34m\u001b[0m\u001b[0m\n",
            "\u001b[0;32m/usr/local/lib/python3.6/dist-packages/pandas/io/parsers.py\u001b[0m in \u001b[0;36mclose\u001b[0;34m(self)\u001b[0m\n\u001b[1;32m    949\u001b[0m \u001b[0;34m\u001b[0m\u001b[0m\n\u001b[1;32m    950\u001b[0m     \u001b[0;32mdef\u001b[0m \u001b[0mclose\u001b[0m\u001b[0;34m(\u001b[0m\u001b[0mself\u001b[0m\u001b[0;34m)\u001b[0m\u001b[0;34m:\u001b[0m\u001b[0;34m\u001b[0m\u001b[0;34m\u001b[0m\u001b[0m\n\u001b[0;32m--> 951\u001b[0;31m         \u001b[0mself\u001b[0m\u001b[0;34m.\u001b[0m\u001b[0m_engine\u001b[0m\u001b[0;34m.\u001b[0m\u001b[0mclose\u001b[0m\u001b[0;34m(\u001b[0m\u001b[0;34m)\u001b[0m\u001b[0;34m\u001b[0m\u001b[0;34m\u001b[0m\u001b[0m\n\u001b[0m\u001b[1;32m    952\u001b[0m \u001b[0;34m\u001b[0m\u001b[0m\n\u001b[1;32m    953\u001b[0m     \u001b[0;32mdef\u001b[0m \u001b[0m_get_options_with_defaults\u001b[0m\u001b[0;34m(\u001b[0m\u001b[0mself\u001b[0m\u001b[0;34m,\u001b[0m \u001b[0mengine\u001b[0m\u001b[0;34m)\u001b[0m\u001b[0;34m:\u001b[0m\u001b[0;34m\u001b[0m\u001b[0;34m\u001b[0m\u001b[0m\n",
            "\u001b[0;32m/usr/local/lib/python3.6/dist-packages/pandas/io/parsers.py\u001b[0m in \u001b[0;36mclose\u001b[0;34m(self)\u001b[0m\n\u001b[1;32m   2093\u001b[0m         \u001b[0;31m# close additional handles opened by C parser (for compression)\u001b[0m\u001b[0;34m\u001b[0m\u001b[0;34m\u001b[0m\u001b[0;34m\u001b[0m\u001b[0m\n\u001b[1;32m   2094\u001b[0m         \u001b[0;32mtry\u001b[0m\u001b[0;34m:\u001b[0m\u001b[0;34m\u001b[0m\u001b[0;34m\u001b[0m\u001b[0m\n\u001b[0;32m-> 2095\u001b[0;31m             \u001b[0mself\u001b[0m\u001b[0;34m.\u001b[0m\u001b[0m_reader\u001b[0m\u001b[0;34m.\u001b[0m\u001b[0mclose\u001b[0m\u001b[0;34m(\u001b[0m\u001b[0;34m)\u001b[0m\u001b[0;34m\u001b[0m\u001b[0;34m\u001b[0m\u001b[0m\n\u001b[0m\u001b[1;32m   2096\u001b[0m         \u001b[0;32mexcept\u001b[0m \u001b[0mValueError\u001b[0m\u001b[0;34m:\u001b[0m\u001b[0;34m\u001b[0m\u001b[0;34m\u001b[0m\u001b[0m\n\u001b[1;32m   2097\u001b[0m             \u001b[0;32mpass\u001b[0m\u001b[0;34m\u001b[0m\u001b[0;34m\u001b[0m\u001b[0m\n",
            "\u001b[0;31mKeyboardInterrupt\u001b[0m: "
          ]
        }
      ]
    },
    {
      "cell_type": "code",
      "metadata": {
        "id": "WIQ12jUuuS9m",
        "outputId": "b4c32bf5-a094-466e-f5f7-42dcd2b5f9c5",
        "colab": {
          "base_uri": "https://localhost:8080/"
        }
      },
      "source": [
        "!nvidia-smi"
      ],
      "execution_count": null,
      "outputs": [
        {
          "output_type": "stream",
          "text": [
            "Wed Nov  4 19:16:55 2020       \n",
            "+-----------------------------------------------------------------------------+\n",
            "| NVIDIA-SMI 455.32.00    Driver Version: 418.67       CUDA Version: 10.1     |\n",
            "|-------------------------------+----------------------+----------------------+\n",
            "| GPU  Name        Persistence-M| Bus-Id        Disp.A | Volatile Uncorr. ECC |\n",
            "| Fan  Temp  Perf  Pwr:Usage/Cap|         Memory-Usage | GPU-Util  Compute M. |\n",
            "|                               |                      |               MIG M. |\n",
            "|===============================+======================+======================|\n",
            "|   0  Tesla T4            Off  | 00000000:00:04.0 Off |                    0 |\n",
            "| N/A   55C    P0    30W /  70W |  11387MiB / 15079MiB |      0%      Default |\n",
            "|                               |                      |                 ERR! |\n",
            "+-------------------------------+----------------------+----------------------+\n",
            "                                                                               \n",
            "+-----------------------------------------------------------------------------+\n",
            "| Processes:                                                                  |\n",
            "|  GPU   GI   CI        PID   Type   Process name                  GPU Memory |\n",
            "|        ID   ID                                                   Usage      |\n",
            "|=============================================================================|\n",
            "|  No running processes found                                                 |\n",
            "+-----------------------------------------------------------------------------+\n"
          ],
          "name": "stdout"
        }
      ]
    },
    {
      "cell_type": "code",
      "metadata": {
        "id": "V7xOnICuvD_v"
      },
      "source": [
        ""
      ],
      "execution_count": null,
      "outputs": []
    },
    {
      "cell_type": "code",
      "metadata": {
        "id": "Wb2oj3289Uml"
      },
      "source": [
        "def get_locations(pred_6):\n",
        "  locations=[]\n",
        "  label_locations=[]\n",
        "  for keypoint_map in pred_6:\n",
        "    \n",
        "    flat_tensor=keypoint_map.view(1,-1)\n",
        "    val=torch.argmax(flat_tensor).cpu().numpy()\n",
        "    locations.append(np.array([(val%45)*(368/45),val//45*(368/45)]) ) #return values corresponding to a 368x368 image. These are in the OpenCV axes coordinates\n",
        "  return np.array(locations)  #x y locations of the heatmap\n"
      ],
      "execution_count": null,
      "outputs": []
    },
    {
      "cell_type": "code",
      "metadata": {
        "id": "cox6NaBS_VoO"
      },
      "source": [
        "def generate_output_image(h,w,locations,colors=['red','blue','green','yellow']):\n",
        "  \n",
        "  empty_tensor=torch.zeros((3,w,h))\n",
        "  output_image=transforms.ToPILImage()(empty_tensor)\n",
        "  draw = ImageDraw.Draw(output_image)\n",
        "\n",
        "  i=0\n",
        "  for x,y in locations:\n",
        "    draw.ellipse((x, y, x+5, y+5), fill = colors[i], outline =colors[i])\n",
        "    i+=1\n",
        "  output_image.putalpha(150)\n",
        "  return output_image\n",
        "\n",
        "#output_image=generate_output_image(output.clone(),locations)\n",
        "#output_image"
      ],
      "execution_count": null,
      "outputs": []
    },
    {
      "cell_type": "code",
      "metadata": {
        "id": "eGqnmdB-Ae8V",
        "outputId": "f64d49fc-03e2-4ead-e03b-b859e2753a5b",
        "colab": {
          "base_uri": "https://localhost:8080/"
        }
      },
      "source": [
        "#Read the 3d keypoints\n",
        "keypoints_3d=pd.read_csv(keypoints_dir)\n",
        "\n",
        "usable_object_points=keypoints_3d.to_numpy()[0:n_keypoints] #Only use the first n_keypoints keypoints\n",
        "\n",
        "def GetFOV(train_data_dir,i):\n",
        "  #returns fov in degrees\n",
        "  fov_dir=sorted(glob.glob(train_data_dir+\"FOV_Labels/*.txt\"),key=HumanSortKey)\n",
        "  fov_file=pd.read_csv(fov_dir[i]) #This value is in degrees\n",
        "  fov=fov_file['FOV'][0] #FOV in degrees\n",
        "  return fov\n",
        "\n",
        "def calculate_angle(rvec_pred,rvec_gt):\n",
        "  #Returns the angle between the frames IN DEGREES\n",
        "  R_pred,J_pred=cv2.Rodrigues(rvec_pred)\n",
        "  R_gt,J_gt=cv2.Rodrigues(rvec_gt)\n",
        "\n",
        "  dR=np.matmul(R_pred,np.transpose(R_gt))\n",
        "  theta=np.arccos((np.trace(dR)-1)/2)\n",
        "  return theta*180/np.pi #Convert from radians to degrees\n",
        "\n",
        "def calculate_distance(tvec_pred,tvec_gt):\n",
        "  #returns the distance between the objects IN CENTIMETERS\n",
        "  dt=tvec_pred-tvec_gt\n",
        "  return np.sum(np.sqrt(dt*dt))\n",
        "\n",
        "#Function to save a prediction from an image\n",
        "def predict_output(net,train_data,i):\n",
        "  image,labels,center_map,img_str=train_data[i]\n",
        "  pred_6=net(torch.unsqueeze(image,dim=0),torch.unsqueeze(center_map,dim=0))[0][-1] #Final stage output\n",
        "  locations=get_locations(pred_6.detach()) #Get locations from the heatmap\n",
        "  \n",
        "  original_size_image=Image.open(train_data.images_dir[i])\n",
        "  locations_original_size=900/368*locations #Convert from 368x368 to 900x900, since the image labels are in the same order too\n",
        "  fov=GetFOV(train_data_dir,i)\n",
        "\n",
        "  camera_matrix=GetIntrinsicMatrix(900,900,fov) #This is the same regardless of whether we use labels or predictions\n",
        "\n",
        "  ret_val,rvec_pred,tvec_pred=cv2.solvePnP(objectPoints=usable_object_points,imagePoints=locations_original_size,cameraMatrix=camera_matrix\n",
        "                                             ,distCoeffs=np.zeros((4,1)))\n",
        "  \n",
        "  usable_labels=pd.read_csv(train_data.label_dir[i],delimiter=\" \").to_numpy()[0:n_keypoints]\n",
        "  ret_val,rvec_gt,tvec_gt=cv2.solvePnP(objectPoints=usable_object_points,imagePoints=usable_labels,cameraMatrix=camera_matrix\n",
        "                                             ,distCoeffs=np.zeros((4,1)))\n",
        "  \n",
        "  background=original_size_image\n",
        "  output=pred_6.clone().detach()*0\n",
        "\n",
        "  output_image=generate_output_image(900,900,usable_labels)\n",
        "  background.paste(output_image,(0,0),output_image)\n",
        "  background.show()\n",
        "  #print(usable_labels)\n",
        " \n",
        "\n",
        "  dt=calculate_distance(tvec_pred,tvec_gt)\n",
        "  theta=calculate_angle(rvec_pred,rvec_gt)\n",
        "\n",
        "  return(dt,theta)\n",
        "  #return (rvec_gt,tvec_gt,rvec_pred,tvec_pred)\n",
        "\n",
        "distances=[]\n",
        "angles=[]\n",
        "for i in range(0,339):\n",
        "  dt,theta=predict_output(net,train_data,i)\n",
        "  distances.append(dt)\n",
        "  angles.append(theta)\n",
        "\n",
        "print(\"Average Distance=\",np.mean(distances),\"cm\")\n",
        "print(\"Average Angle=\",np.mean(angles),\"degrees\")\n"
      ],
      "execution_count": null,
      "outputs": [
        {
          "output_type": "stream",
          "text": [
            "Average Distance= 93.26860576935627 cm\n",
            "Average Angle= 17.15972166099143 degrees\n"
          ],
          "name": "stdout"
        }
      ]
    },
    {
      "cell_type": "code",
      "metadata": {
        "id": "E1YlNdC1HXnn",
        "outputId": "6deadd2f-eb06-4bd7-c53c-1a9c638c7e5a",
        "colab": {
          "base_uri": "https://localhost:8080/",
          "height": 1000
        }
      },
      "source": [
        "#Prediction\n",
        "i=0\n",
        "for image,labels,center_map,img_str in train_data:\n",
        "  pred_6=net(torch.unsqueeze(image,dim=0),torch.unsqueeze(center_map,dim=0))[0][-1] #Final stage output\n",
        "  output=pred_6.clone().detach()*0\n",
        "  pil_image=transforms.ToPILImage()(image)\n",
        "  background=pil_image\n",
        "\n",
        "  output_image=generate_output_image(368,368,get_locations(pred_6))\n",
        "  background.paste(output_image,(0,0),output_image)\n",
        "  background.save(annotation_save_dir+'Image'+str(i)+'.PNG')\n",
        "  i+=1\n",
        "  #import ipdb\n",
        "  #ipdb.set_trace()\n",
        "  print(\"Saving Image \",i)"
      ],
      "execution_count": null,
      "outputs": [
        {
          "output_type": "stream",
          "text": [
            "Saving Image  1\n",
            "Saving Image  2\n",
            "Saving Image  3\n",
            "Saving Image  4\n",
            "Saving Image  5\n",
            "Saving Image  6\n",
            "Saving Image  7\n",
            "Saving Image  8\n",
            "Saving Image  9\n",
            "Saving Image  10\n",
            "Saving Image  11\n",
            "Saving Image  12\n",
            "Saving Image  13\n",
            "Saving Image  14\n",
            "Saving Image  15\n",
            "Saving Image  16\n",
            "Saving Image  17\n",
            "Saving Image  18\n",
            "Saving Image  19\n",
            "Saving Image  20\n",
            "Saving Image  21\n",
            "Saving Image  22\n",
            "Saving Image  23\n",
            "Saving Image  24\n",
            "Saving Image  25\n",
            "Saving Image  26\n",
            "Saving Image  27\n",
            "Saving Image  28\n",
            "Saving Image  29\n",
            "Saving Image  30\n",
            "Saving Image  31\n",
            "Saving Image  32\n",
            "Saving Image  33\n",
            "Saving Image  34\n",
            "Saving Image  35\n",
            "Saving Image  36\n",
            "Saving Image  37\n",
            "Saving Image  38\n",
            "Saving Image  39\n",
            "Saving Image  40\n",
            "Saving Image  41\n",
            "Saving Image  42\n",
            "Saving Image  43\n",
            "Saving Image  44\n",
            "Saving Image  45\n",
            "Saving Image  46\n",
            "Saving Image  47\n",
            "Saving Image  48\n",
            "Saving Image  49\n",
            "Saving Image  50\n",
            "Saving Image  51\n",
            "Saving Image  52\n",
            "Saving Image  53\n",
            "Saving Image  54\n",
            "Saving Image  55\n",
            "Saving Image  56\n",
            "Saving Image  57\n",
            "Saving Image  58\n",
            "Saving Image  59\n",
            "Saving Image  60\n",
            "Saving Image  61\n",
            "Saving Image  62\n",
            "Saving Image  63\n",
            "Saving Image  64\n",
            "Saving Image  65\n",
            "Saving Image  66\n",
            "Saving Image  67\n",
            "Saving Image  68\n",
            "Saving Image  69\n",
            "Saving Image  70\n",
            "Saving Image  71\n",
            "Saving Image  72\n",
            "Saving Image  73\n",
            "Saving Image  74\n",
            "Saving Image  75\n",
            "Saving Image  76\n",
            "Saving Image  77\n",
            "Saving Image  78\n",
            "Saving Image  79\n",
            "Saving Image  80\n",
            "Saving Image  81\n",
            "Saving Image  82\n",
            "Saving Image  83\n",
            "Saving Image  84\n",
            "Saving Image  85\n",
            "Saving Image  86\n",
            "Saving Image  87\n",
            "Saving Image  88\n",
            "Saving Image  89\n",
            "Saving Image  90\n",
            "Saving Image  91\n",
            "Saving Image  92\n",
            "Saving Image  93\n",
            "Saving Image  94\n",
            "Saving Image  95\n",
            "Saving Image  96\n",
            "Saving Image  97\n",
            "Saving Image  98\n",
            "Saving Image  99\n",
            "Saving Image  100\n",
            "Saving Image  101\n",
            "Saving Image  102\n",
            "Saving Image  103\n",
            "Saving Image  104\n",
            "Saving Image  105\n",
            "Saving Image  106\n",
            "Saving Image  107\n",
            "Saving Image  108\n",
            "Saving Image  109\n",
            "Saving Image  110\n",
            "Saving Image  111\n",
            "Saving Image  112\n",
            "Saving Image  113\n",
            "Saving Image  114\n",
            "Saving Image  115\n",
            "Saving Image  116\n",
            "Saving Image  117\n",
            "Saving Image  118\n",
            "Saving Image  119\n",
            "Saving Image  120\n",
            "Saving Image  121\n",
            "Saving Image  122\n",
            "Saving Image  123\n",
            "Saving Image  124\n",
            "Saving Image  125\n",
            "Saving Image  126\n",
            "Saving Image  127\n",
            "Saving Image  128\n",
            "Saving Image  129\n",
            "Saving Image  130\n",
            "Saving Image  131\n",
            "Saving Image  132\n",
            "Saving Image  133\n",
            "Saving Image  134\n",
            "Saving Image  135\n",
            "Saving Image  136\n",
            "Saving Image  137\n",
            "Saving Image  138\n",
            "Saving Image  139\n",
            "Saving Image  140\n",
            "Saving Image  141\n",
            "Saving Image  142\n",
            "Saving Image  143\n",
            "Saving Image  144\n",
            "Saving Image  145\n",
            "Saving Image  146\n",
            "Saving Image  147\n",
            "Saving Image  148\n",
            "Saving Image  149\n",
            "Saving Image  150\n",
            "Saving Image  151\n",
            "Saving Image  152\n",
            "Saving Image  153\n",
            "Saving Image  154\n",
            "Saving Image  155\n",
            "Saving Image  156\n",
            "Saving Image  157\n",
            "Saving Image  158\n",
            "Saving Image  159\n",
            "Saving Image  160\n",
            "Saving Image  161\n",
            "Saving Image  162\n",
            "Saving Image  163\n",
            "Saving Image  164\n",
            "Saving Image  165\n",
            "Saving Image  166\n",
            "Saving Image  167\n",
            "Saving Image  168\n",
            "Saving Image  169\n",
            "Saving Image  170\n",
            "Saving Image  171\n",
            "Saving Image  172\n",
            "Saving Image  173\n",
            "Saving Image  174\n",
            "Saving Image  175\n",
            "Saving Image  176\n",
            "Saving Image  177\n",
            "Saving Image  178\n",
            "Saving Image  179\n",
            "Saving Image  180\n",
            "Saving Image  181\n",
            "Saving Image  182\n",
            "Saving Image  183\n",
            "Saving Image  184\n",
            "Saving Image  185\n",
            "Saving Image  186\n",
            "Saving Image  187\n",
            "Saving Image  188\n",
            "Saving Image  189\n",
            "Saving Image  190\n",
            "Saving Image  191\n",
            "Saving Image  192\n",
            "Saving Image  193\n",
            "Saving Image  194\n",
            "Saving Image  195\n",
            "Saving Image  196\n",
            "Saving Image  197\n",
            "Saving Image  198\n",
            "Saving Image  199\n",
            "Saving Image  200\n",
            "Saving Image  201\n",
            "Saving Image  202\n",
            "Saving Image  203\n",
            "Saving Image  204\n",
            "Saving Image  205\n",
            "Saving Image  206\n",
            "Saving Image  207\n",
            "Saving Image  208\n",
            "Saving Image  209\n",
            "Saving Image  210\n",
            "Saving Image  211\n",
            "Saving Image  212\n",
            "Saving Image  213\n",
            "Saving Image  214\n",
            "Saving Image  215\n",
            "Saving Image  216\n",
            "Saving Image  217\n",
            "Saving Image  218\n",
            "Saving Image  219\n",
            "Saving Image  220\n",
            "Saving Image  221\n",
            "Saving Image  222\n",
            "Saving Image  223\n",
            "Saving Image  224\n",
            "Saving Image  225\n",
            "Saving Image  226\n",
            "Saving Image  227\n",
            "Saving Image  228\n",
            "Saving Image  229\n",
            "Saving Image  230\n",
            "Saving Image  231\n",
            "Saving Image  232\n",
            "Saving Image  233\n",
            "Saving Image  234\n",
            "Saving Image  235\n",
            "Saving Image  236\n",
            "Saving Image  237\n",
            "Saving Image  238\n",
            "Saving Image  239\n",
            "Saving Image  240\n",
            "Saving Image  241\n",
            "Saving Image  242\n",
            "Saving Image  243\n",
            "Saving Image  244\n",
            "Saving Image  245\n",
            "Saving Image  246\n",
            "Saving Image  247\n",
            "Saving Image  248\n",
            "Saving Image  249\n",
            "Saving Image  250\n",
            "Saving Image  251\n",
            "Saving Image  252\n",
            "Saving Image  253\n",
            "Saving Image  254\n",
            "Saving Image  255\n",
            "Saving Image  256\n",
            "Saving Image  257\n",
            "Saving Image  258\n"
          ],
          "name": "stdout"
        },
        {
          "output_type": "error",
          "ename": "KeyboardInterrupt",
          "evalue": "ignored",
          "traceback": [
            "\u001b[0;31m---------------------------------------------------------------------------\u001b[0m",
            "\u001b[0;31mKeyboardInterrupt\u001b[0m                         Traceback (most recent call last)",
            "\u001b[0;32m<ipython-input-34-c006f50a7235>\u001b[0m in \u001b[0;36m<module>\u001b[0;34m()\u001b[0m\n\u001b[1;32m      9\u001b[0m   \u001b[0moutput_image\u001b[0m\u001b[0;34m=\u001b[0m\u001b[0mgenerate_output_image\u001b[0m\u001b[0;34m(\u001b[0m\u001b[0;36m368\u001b[0m\u001b[0;34m,\u001b[0m\u001b[0;36m368\u001b[0m\u001b[0;34m,\u001b[0m\u001b[0mget_locations\u001b[0m\u001b[0;34m(\u001b[0m\u001b[0mpred_6\u001b[0m\u001b[0;34m)\u001b[0m\u001b[0;34m)\u001b[0m\u001b[0;34m\u001b[0m\u001b[0;34m\u001b[0m\u001b[0m\n\u001b[1;32m     10\u001b[0m   \u001b[0mbackground\u001b[0m\u001b[0;34m.\u001b[0m\u001b[0mpaste\u001b[0m\u001b[0;34m(\u001b[0m\u001b[0moutput_image\u001b[0m\u001b[0;34m,\u001b[0m\u001b[0;34m(\u001b[0m\u001b[0;36m0\u001b[0m\u001b[0;34m,\u001b[0m\u001b[0;36m0\u001b[0m\u001b[0;34m)\u001b[0m\u001b[0;34m,\u001b[0m\u001b[0moutput_image\u001b[0m\u001b[0;34m)\u001b[0m\u001b[0;34m\u001b[0m\u001b[0;34m\u001b[0m\u001b[0m\n\u001b[0;32m---> 11\u001b[0;31m   \u001b[0mbackground\u001b[0m\u001b[0;34m.\u001b[0m\u001b[0msave\u001b[0m\u001b[0;34m(\u001b[0m\u001b[0mannotation_save_dir\u001b[0m\u001b[0;34m+\u001b[0m\u001b[0;34m'Image'\u001b[0m\u001b[0;34m+\u001b[0m\u001b[0mstr\u001b[0m\u001b[0;34m(\u001b[0m\u001b[0mi\u001b[0m\u001b[0;34m)\u001b[0m\u001b[0;34m+\u001b[0m\u001b[0;34m'.PNG'\u001b[0m\u001b[0;34m)\u001b[0m\u001b[0;34m\u001b[0m\u001b[0;34m\u001b[0m\u001b[0m\n\u001b[0m\u001b[1;32m     12\u001b[0m   \u001b[0mi\u001b[0m\u001b[0;34m+=\u001b[0m\u001b[0;36m1\u001b[0m\u001b[0;34m\u001b[0m\u001b[0;34m\u001b[0m\u001b[0m\n\u001b[1;32m     13\u001b[0m   \u001b[0;31m#import ipdb\u001b[0m\u001b[0;34m\u001b[0m\u001b[0;34m\u001b[0m\u001b[0;34m\u001b[0m\u001b[0m\n",
            "\u001b[0;32m/usr/local/lib/python3.6/dist-packages/PIL/Image.py\u001b[0m in \u001b[0;36msave\u001b[0;34m(self, fp, format, **params)\u001b[0m\n\u001b[1;32m   2097\u001b[0m                 \u001b[0mfp\u001b[0m \u001b[0;34m=\u001b[0m \u001b[0mbuiltins\u001b[0m\u001b[0;34m.\u001b[0m\u001b[0mopen\u001b[0m\u001b[0;34m(\u001b[0m\u001b[0mfilename\u001b[0m\u001b[0;34m,\u001b[0m \u001b[0;34m\"r+b\"\u001b[0m\u001b[0;34m)\u001b[0m\u001b[0;34m\u001b[0m\u001b[0;34m\u001b[0m\u001b[0m\n\u001b[1;32m   2098\u001b[0m             \u001b[0;32melse\u001b[0m\u001b[0;34m:\u001b[0m\u001b[0;34m\u001b[0m\u001b[0;34m\u001b[0m\u001b[0m\n\u001b[0;32m-> 2099\u001b[0;31m                 \u001b[0mfp\u001b[0m \u001b[0;34m=\u001b[0m \u001b[0mbuiltins\u001b[0m\u001b[0;34m.\u001b[0m\u001b[0mopen\u001b[0m\u001b[0;34m(\u001b[0m\u001b[0mfilename\u001b[0m\u001b[0;34m,\u001b[0m \u001b[0;34m\"w+b\"\u001b[0m\u001b[0;34m)\u001b[0m\u001b[0;34m\u001b[0m\u001b[0;34m\u001b[0m\u001b[0m\n\u001b[0m\u001b[1;32m   2100\u001b[0m \u001b[0;34m\u001b[0m\u001b[0m\n\u001b[1;32m   2101\u001b[0m         \u001b[0;32mtry\u001b[0m\u001b[0;34m:\u001b[0m\u001b[0;34m\u001b[0m\u001b[0;34m\u001b[0m\u001b[0m\n",
            "\u001b[0;31mKeyboardInterrupt\u001b[0m: "
          ]
        }
      ]
    },
    {
      "cell_type": "code",
      "metadata": {
        "id": "ALvBG-1wwvP1",
        "outputId": "5ce5b72b-eeb9-4051-be61-ce52198ca2cf",
        "colab": {
          "base_uri": "https://localhost:8080/",
          "height": 168
        }
      },
      "source": [
        ""
      ],
      "execution_count": null,
      "outputs": [
        {
          "output_type": "error",
          "ename": "NameError",
          "evalue": "ignored",
          "traceback": [
            "\u001b[0;31m---------------------------------------------------------------------------\u001b[0m",
            "\u001b[0;31mNameError\u001b[0m                                 Traceback (most recent call last)",
            "\u001b[0;32m<ipython-input-29-28935580a9bb>\u001b[0m in \u001b[0;36m<module>\u001b[0;34m()\u001b[0m\n\u001b[0;32m----> 1\u001b[0;31m \u001b[0mimage\u001b[0m\u001b[0;34m\u001b[0m\u001b[0;34m\u001b[0m\u001b[0m\n\u001b[0m",
            "\u001b[0;31mNameError\u001b[0m: name 'image' is not defined"
          ]
        }
      ]
    },
    {
      "cell_type": "code",
      "metadata": {
        "id": "x55QWgURgbjx"
      },
      "source": [
        "golf_annotation_save_dir='/content/drive/My Drive/Final Data/golf/Annotated_Images/'\n",
        "golf_train_data_dir='/content/drive/My Drive/Final Data/golf/'\n",
        "\n",
        "golf_train_data = Mydata(data_dir=golf_train_data_dir,n_keypoints=4)\n",
        "\n",
        "golf_train_data.images_dir.sort(key=HumanSortKey)\n",
        "golf_train_data.label_dir.sort(key=HumanSortKey)\n",
        "\n",
        "#Predict on Golf using network trained on Mustang\n",
        "i=0\n",
        "for image,labels,center_map,img_str in golf_train_data:\n",
        "  pred_6=net(torch.unsqueeze(image,dim=0),torch.unsqueeze(center_map,dim=0))[0][-1] #Final stage output\n",
        "  output=pred_6.clone().detach()*0\n",
        "  pil_image=transforms.ToPILImage()(image)\n",
        "  background=pil_image\n",
        "\n",
        "  output_image=generate_output_image(output,get_locations(pred_6))\n",
        "  background.paste(output_image,(0,0),output_image)\n",
        "  background.save(golf_annotation_save_dir+'Image'+str(i)+'.PNG')\n",
        "  i+=1\n",
        "  #import ipdb\n",
        "  #ipdb.set_trace()\n",
        "  print(\"Saving Image \",i)"
      ],
      "execution_count": null,
      "outputs": []
    },
    {
      "cell_type": "code",
      "metadata": {
        "id": "XHNs40BzgrHP",
        "outputId": "5febe191-9cd2-4fe0-e7bf-4b801f285a14",
        "colab": {
          "base_uri": "https://localhost:8080/"
        }
      },
      "source": [
        ""
      ],
      "execution_count": null,
      "outputs": [
        {
          "output_type": "execute_result",
          "data": {
            "text/plain": [
              "['/content/drive/My Drive/Final Data/golf/Labels/labels1.txt',\n",
              " '/content/drive/My Drive/Final Data/golf/Labels/labels7.txt',\n",
              " '/content/drive/My Drive/Final Data/golf/Labels/labels3.txt',\n",
              " '/content/drive/My Drive/Final Data/golf/Labels/labels2.txt',\n",
              " '/content/drive/My Drive/Final Data/golf/Labels/labels4.txt',\n",
              " '/content/drive/My Drive/Final Data/golf/Labels/labels5.txt',\n",
              " '/content/drive/My Drive/Final Data/golf/Labels/labels6.txt',\n",
              " '/content/drive/My Drive/Final Data/golf/Labels/labels8.txt',\n",
              " '/content/drive/My Drive/Final Data/golf/Labels/labels13.txt',\n",
              " '/content/drive/My Drive/Final Data/golf/Labels/labels12.txt']"
            ]
          },
          "metadata": {
            "tags": []
          },
          "execution_count": 93
        }
      ]
    },
    {
      "cell_type": "code",
      "metadata": {
        "id": "8xn8jYrAqk3_"
      },
      "source": [
        ""
      ],
      "execution_count": null,
      "outputs": []
    }
  ]
}